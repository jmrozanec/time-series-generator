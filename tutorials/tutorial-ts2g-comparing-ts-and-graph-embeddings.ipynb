{
 "cells": [
  {
   "cell_type": "markdown",
   "id": "cbd80fc61281550a",
   "metadata": {},
   "source": [
    "# Demo: sequences <-> embeddings\n",
    "The following notebook provides a demonstration how the ts2e library can be used to convert time series into embeddings. To that end, we use a dataset with the history of daily prices of Amazon stock (AMZN). All the column descriptions are provided. Currency is USD."
   ]
  },
  {
   "cell_type": "code",
   "execution_count": null,
   "id": "9be9f0df032d74b9",
   "metadata": {
    "ExecuteTime": {
     "end_time": "2024-06-17T11:47:29.493071Z",
     "start_time": "2024-06-17T11:47:29.472126Z"
    }
   },
   "outputs": [],
   "source": [
    "import os\n",
    "import sys\n",
    "nb_dir = os.path.split(os.getcwd())[0]\n",
    "if nb_dir not in sys.path:\n",
    "    sys.path.append(nb_dir)"
   ]
  },
  {
   "cell_type": "code",
   "execution_count": null,
   "id": "26e95a9427743478",
   "metadata": {
    "ExecuteTime": {
     "end_time": "2024-06-17T11:47:47.843273Z",
     "start_time": "2024-06-17T11:47:30.175095Z"
    }
   },
   "outputs": [],
   "source": [
    "import csv\n",
    "import numpy as np\n",
    "import matplotlib.pyplot as plt\n",
    "from scipy.spatial.distance import cosine\n",
    "import seaborn as sns\n",
    "import networkx as nx\n",
    "import pandas as pd\n",
    "from timeseries.strategies import TimeseriesToGraphStrategy, TimeseriesEdgeVisibilityConstraintsNatural, EdgeWeightingStrategyNull\n",
    "from timeseries.vectors import TimeSeriesEmbedding\n",
    "from sklearn.preprocessing import MinMaxScaler\n",
    "from core import model "
   ]
  },
  {
   "cell_type": "markdown",
   "id": "bb0b60a3929275c9",
   "metadata": {},
   "source": [
    "## Loading data"
   ]
  },
  {
   "cell_type": "markdown",
   "id": "419b20ffb6e0dd02",
   "metadata": {},
   "source": [
    "We first load the dataset :)"
   ]
  },
  {
   "cell_type": "code",
   "execution_count": null,
   "id": "initial_id",
   "metadata": {
    "ExecuteTime": {
     "end_time": "2024-06-17T11:47:47.889731Z",
     "start_time": "2024-06-17T11:47:47.843273Z"
    }
   },
   "outputs": [],
   "source": [
    "amazon_data = pd.read_csv(os.path.join(os.getcwd(), \"amazon\", \"AMZN.csv\"))"
   ]
  },
  {
   "cell_type": "markdown",
   "id": "8fe12295989b711a",
   "metadata": {},
   "source": [
    "To properly use the ‘Date’ column, we convert it to datetime format and ensure the dates are recognized as date objects. We then set the ‘Date’ column as the index of the DataFrame. This creates a time-series structure, facilitating analysis and visualization over time."
   ]
  },
  {
   "cell_type": "code",
   "execution_count": null,
   "id": "70fdcbe43f7712dd",
   "metadata": {
    "ExecuteTime": {
     "end_time": "2024-06-17T11:47:47.911643Z",
     "start_time": "2024-06-17T11:47:47.889731Z"
    }
   },
   "outputs": [],
   "source": [
    "amazon_data[\"Date\"] = pd.to_datetime(amazon_data[\"Date\"])\n",
    "amazon_data.set_index(\"Date\", inplace=True)"
   ]
  },
  {
   "cell_type": "markdown",
   "id": "b8bd2eb2bac4802a",
   "metadata": {},
   "source": [
    "# How does the time series look like?"
   ]
  },
  {
   "cell_type": "code",
   "execution_count": null,
   "id": "cc3d9d4ec88d07c5",
   "metadata": {
    "ExecuteTime": {
     "end_time": "2024-06-17T11:47:47.922649Z",
     "start_time": "2024-06-17T11:47:47.911643Z"
    }
   },
   "outputs": [],
   "source": [
    "def plot_timeseries(sequence, title, x_legend, y_legend, color):\n",
    "    plt.figure(figsize=(10, 6))\n",
    "    plt.plot(sequence, linestyle='-', color=color)\n",
    "    \n",
    "    plt.title(title)\n",
    "    plt.xlabel(x_legend)\n",
    "    plt.ylabel(y_legend)\n",
    "    plt.grid(True)\n",
    "    plt.show()"
   ]
  },
  {
   "cell_type": "code",
   "execution_count": null,
   "id": "a3f1e252b62f94b2",
   "metadata": {
    "ExecuteTime": {
     "end_time": "2024-06-17T11:47:47.931696Z",
     "start_time": "2024-06-17T11:47:47.924659Z"
    }
   },
   "outputs": [],
   "source": [
    "def plot_timeseries_sequence(df_column, title, x_legend, y_legend, color='black'):\n",
    "    sequence = model.Timeseries(model.TimeseriesArrayStream(df_column)).to_sequence()\n",
    "    plot_timeseries(sequence, title, x_legend, y_legend, color)"
   ]
  },
  {
   "cell_type": "code",
   "execution_count": null,
   "id": "1584727665bb6be6",
   "metadata": {
    "ExecuteTime": {
     "end_time": "2024-06-17T11:47:47.944433Z",
     "start_time": "2024-06-17T11:47:47.931696Z"
    }
   },
   "outputs": [],
   "source": [
    "def sequence_to_graph(column, color):\n",
    "    strategy = TimeseriesToGraphStrategy(\n",
    "        visibility_constraints=[TimeseriesEdgeVisibilityConstraintsNatural()],\n",
    "        graph_type=\"undirected\",\n",
    "        edge_weighting_strategy=EdgeWeightingStrategyNull(),\n",
    "    )\n",
    "\n",
    "    g = strategy.to_graph(model.TimeseriesArrayStream(column))\n",
    "    pos=nx.spring_layout(g.graph, seed=1)\n",
    "    nx.draw(g.graph, pos, node_size=40, node_color=color)"
   ]
  },
  {
   "cell_type": "code",
   "execution_count": null,
   "id": "c74202f1957ba34e",
   "metadata": {
    "ExecuteTime": {
     "end_time": "2024-06-17T11:47:48.519739Z",
     "start_time": "2024-06-17T11:47:47.944433Z"
    }
   },
   "outputs": [],
   "source": [
    "plot_timeseries_sequence(amazon_data[\"Close\"], \"Original Sequence\", \"Year\", \"Value\")"
   ]
  },
  {
   "cell_type": "markdown",
   "id": "516f3e64e374c017",
   "metadata": {},
   "source": [
    "Given the great length of the timeseries, let's focus on some sub-segments, so that we can better appreciate its behavior."
   ]
  },
  {
   "cell_type": "code",
   "execution_count": null,
   "id": "71a3c11bcd662e73",
   "metadata": {
    "ExecuteTime": {
     "end_time": "2024-06-17T11:47:48.531875Z",
     "start_time": "2024-06-17T11:47:48.519739Z"
    }
   },
   "outputs": [],
   "source": [
    "segment_1 = amazon_data[60:260]\n",
    "segment_2 = amazon_data[960:1160]\n",
    "segment_3 = amazon_data[3120:3320]\n",
    "segment_4 = amazon_data[4320:4520]\n",
    "segment_5 = amazon_data[5640:5840]\n",
    "segment_6 = amazon_data[6000:6200]"
   ]
  },
  {
   "cell_type": "markdown",
   "id": "80281d0e92cd12b",
   "metadata": {},
   "source": [
    "How do the plots and networks (graphs) for these segments look like?"
   ]
  },
  {
   "cell_type": "code",
   "execution_count": null,
   "id": "b755a2987047331f",
   "metadata": {
    "ExecuteTime": {
     "end_time": "2024-06-17T11:55:15.122571Z",
     "start_time": "2024-06-17T11:55:11.562622Z"
    }
   },
   "outputs": [],
   "source": [
    "plot_timeseries_sequence(segment_1[\"Close\"], \"Example 1: Segment 1 for Amazon data\", \"Year\", \"Value\", 'gray')\n",
    "sequence_to_graph(segment_1[\"Close\"], 'gray')"
   ]
  },
  {
   "cell_type": "markdown",
   "id": "5a5f463db26f57d0",
   "metadata": {},
   "source": []
  },
  {
   "cell_type": "code",
   "execution_count": null,
   "id": "a0fc8daef2e572d7",
   "metadata": {
    "ExecuteTime": {
     "end_time": "2024-06-17T11:55:40.988211Z",
     "start_time": "2024-06-17T11:55:38.371395Z"
    }
   },
   "outputs": [],
   "source": [
    "plot_timeseries_sequence(segment_2[\"Close\"], \"Example 2: Segment 2 from Amazon data\", \"Year\", \"Value\", 'green')\n",
    "sequence_to_graph(segment_2[\"Close\"], 'green')"
   ]
  },
  {
   "cell_type": "code",
   "execution_count": null,
   "id": "144e1206b3f441ad",
   "metadata": {
    "ExecuteTime": {
     "end_time": "2024-06-17T11:56:18.052103Z",
     "start_time": "2024-06-17T11:56:15.240504Z"
    }
   },
   "outputs": [],
   "source": [
    "plot_timeseries_sequence(segment_3[\"Close\"], \"Example 3: Segment 3 from Amazon data\", \"Year\", \"Value\", 'blue')\n",
    "sequence_to_graph(segment_3[\"Close\"], 'blue')"
   ]
  },
  {
   "cell_type": "code",
   "execution_count": null,
   "id": "acb79cdccbf4737e",
   "metadata": {
    "ExecuteTime": {
     "end_time": "2024-06-17T11:57:20.770559Z",
     "start_time": "2024-06-17T11:57:17.081125Z"
    }
   },
   "outputs": [],
   "source": [
    "plot_timeseries_sequence(segment_4[\"Close\"], \"Example 4: Segment 4 from Amazon data\", \"Year\", \"Value\", 'red')\n",
    "sequence_to_graph(segment_4[\"Close\"], 'red')"
   ]
  },
  {
   "cell_type": "code",
   "execution_count": null,
   "id": "ad0bba736d9f3283",
   "metadata": {
    "ExecuteTime": {
     "end_time": "2024-06-17T11:58:03.587982Z",
     "start_time": "2024-06-17T11:58:00.630994Z"
    }
   },
   "outputs": [],
   "source": [
    "plot_timeseries_sequence(segment_5[\"Close\"], \"Example 5: Segment 5 from Amazon data\", \"Year\", \"Value\", 'orange')\n",
    "sequence_to_graph(segment_5[\"Close\"], 'orange')"
   ]
  },
  {
   "cell_type": "markdown",
   "id": "fdd938a4ee787311",
   "metadata": {},
   "source": []
  },
  {
   "cell_type": "code",
   "execution_count": null,
   "id": "f1631911593e4a09",
   "metadata": {
    "ExecuteTime": {
     "end_time": "2024-06-17T11:58:36.808902Z",
     "start_time": "2024-06-17T11:58:34.103219Z"
    }
   },
   "outputs": [],
   "source": [
    "plot_timeseries_sequence(segment_6[\"Close\"], \"Example 6: Segment 6 from Amazon data\", \"Year\", \"Value\", 'yellow')\n",
    "sequence_to_graph(segment_6[\"Close\"], 'yellow')"
   ]
  },
  {
   "cell_type": "markdown",
   "id": "a209484a77ff2e50",
   "metadata": {},
   "source": [
    "Let's turn the timeseries into vectors!"
   ]
  },
  {
   "cell_type": "code",
   "execution_count": null,
   "id": "5a73dc53151312b5",
   "metadata": {
    "ExecuteTime": {
     "end_time": "2024-06-17T11:58:45.938477Z",
     "start_time": "2024-06-17T11:58:45.929278Z"
    }
   },
   "outputs": [],
   "source": [
    "def normalize_data(dataset,column):\n",
    "    data = dataset[column].values\n",
    "    scaler = MinMaxScaler()\n",
    "    return scaler.fit_transform(data.reshape(-1, 1)).flatten()    "
   ]
  },
  {
   "cell_type": "markdown",
   "id": "ec88771bf5abf5a4",
   "metadata": {},
   "source": [
    "This function normalizes a specific column of a dataset using the Min-Max scaling technique. Normalization is a common preprocessing step in machine learning, ensuring that all features have the same scale. It helps algorithms converge faster and perform better."
   ]
  },
  {
   "cell_type": "code",
   "execution_count": null,
   "id": "7dff75b3ed7f3a8e",
   "metadata": {
    "ExecuteTime": {
     "end_time": "2024-06-17T11:58:47.493827Z",
     "start_time": "2024-06-17T11:58:47.483700Z"
    }
   },
   "outputs": [],
   "source": [
    "def create_and_train_ts_embedding (data, window_size=100, epochs=20):\n",
    "    ts_embedding = TimeSeriesEmbedding(data, window_size)\n",
    "    print(ts_embedding)\n",
    "    print(ts_embedding.data.size)\n",
    "    ts_embedding.train_lstm(epochs)\n",
    "    print(ts_embedding)\n",
    "    return ts_embedding"
   ]
  },
  {
   "cell_type": "markdown",
   "id": "ef542209747d6c01",
   "metadata": {},
   "source": [
    "Here, a method called TimeSeriesEmbedding is employed to generate embeddings for time series data. Embeddings serve as compact representations of data in a lower-dimensional space, effectively capturing significant patterns and relationships. The function utilizes a window-based strategy to derive embeddings from the time series data. Furthermore, it includes the training of a Long Short-Term Memory (LSTM) neural network model. This model is trained to discern intricate embeddings directly from the data, enhancing comprehension of temporal dynamics and facilitating subsequent analyses."
   ]
  },
  {
   "cell_type": "code",
   "execution_count": null,
   "id": "c610e42423fdd27e",
   "metadata": {
    "ExecuteTime": {
     "end_time": "2024-06-17T11:58:59.270252Z",
     "start_time": "2024-06-17T11:58:59.257993Z"
    }
   },
   "outputs": [],
   "source": [
    "def print_ts_embeddings_info(ts_embedding):\n",
    "    embeddings = ts_embedding.get_embeddings()\n",
    "    print(\"Shape of embeddings:\", embeddings.shape)\n",
    "    print(\"Sample embeddings:\\n\", embeddings[:5])\n",
    "    return embeddings"
   ]
  },
  {
   "cell_type": "markdown",
   "id": "c284d679b6e19f8a",
   "metadata": {},
   "source": [
    "This function retrieves and presents information regarding the embeddings produced by the TimeSeriesEmbedding model. It offers insights into the shape of the embeddings and presents a glimpse of the embeddings themselves, facilitating further analysis and interpretation."
   ]
  },
  {
   "cell_type": "code",
   "execution_count": null,
   "id": "f1fd8b03c82844b3",
   "metadata": {
    "ExecuteTime": {
     "end_time": "2024-06-17T20:22:44.681338Z",
     "start_time": "2024-06-17T20:22:44.673100Z"
    }
   },
   "outputs": [],
   "source": [
    "def calculate_embeddings_similarity(ts_embedding, similarity_threshold=0.9):\n",
    "    embeddings = ts_embedding.get_embeddings()\n",
    "    num_embeddings = embeddings.shape[0]\n",
    "    similarity_matrix = np.zeros((num_embeddings, num_embeddings))\n",
    "    similar_pairs = []\n",
    "    \n",
    "    for i in range(num_embeddings):\n",
    "        for j in range(i + 1, num_embeddings):  # Avoid duplicate calculations\n",
    "            cosine_sim = 1 - cosine(embeddings[i], embeddings[j])\n",
    "            similarity_matrix[i, j] = cosine_sim\n",
    "            similarity_matrix[j, i] = cosine_sim \n",
    "            \n",
    "            # closer to 1, more similar\n",
    "            if cosine_sim > similarity_threshold:\n",
    "                similar_pairs.append((i, j, cosine_sim))\n",
    "    \n",
    "    print(\"Pairwise cosine similarity:\\n\", similarity_matrix)\n",
    "    print(\"Similar pairs (above threshold):\\n\", similar_pairs)\n",
    "    return similarity_matrix, similar_pairs"
   ]
  },
  {
   "cell_type": "markdown",
   "id": "121a515662d8cffb",
   "metadata": {},
   "source": [
    "With this function we calculate the cosine similarity between pairs of embeddings from a provided tensor and identifies those pairs that exceed a specified similarity threshold. It retrieves the embeddings, initializes a similarity matrix and a list for similar pairs, and then computes the pairwise cosine similarities, storing the results in the matrix while recording pairs with similarities above the threshold. The similarity matrix and the list of similar pairs, including their similarity scores, are printed and returned. This process helps to identify and quantify the similarity between different embeddings efficiently."
   ]
  },
  {
   "cell_type": "code",
   "execution_count": null,
   "id": "dac136a5d11702e2",
   "metadata": {
    "ExecuteTime": {
     "end_time": "2024-06-17T20:22:46.108550Z",
     "start_time": "2024-06-17T20:22:46.098475Z"
    }
   },
   "outputs": [],
   "source": [
    "def sort_similarity_matrix(similarity_matrix):\n",
    "    num_embeddings = similarity_matrix.shape[0]\n",
    "    \n",
    "    # Sort similarity matrix by cosine distance increasing\n",
    "    sorted_indices = np.argsort(-similarity_matrix, axis=None)\n",
    "    sorted_similarity_matrix = similarity_matrix.flatten()[sorted_indices].reshape(similarity_matrix.shape)\n",
    "    \n",
    "    # Collect sorted pairs\n",
    "    sorted_pairs = []\n",
    "    for index in sorted_indices:\n",
    "        i, j = divmod(index, num_embeddings)\n",
    "        if i < j: \n",
    "            sorted_pairs.append((i, j, similarity_matrix[i, j]))\n",
    "\n",
    "    print(\"Pairwise cosine similarity (sorted):\\n\", sorted_similarity_matrix)\n",
    "    print(\"Sorted pairs:\\n\", sorted_pairs)\n",
    "    return sorted_similarity_matrix, sorted_pairs"
   ]
  },
  {
   "cell_type": "markdown",
   "id": "1c33653e80cd388a",
   "metadata": {},
   "source": [
    "We aim to sort the similarity matrix by decreasing cosine distance to identify the most similar pairs. This function gathers sorted pairs of indices, focusing solely on the upper triangular portion to eliminate duplicate pairs."
   ]
  },
  {
   "cell_type": "code",
   "execution_count": null,
   "id": "7ce8c57c9c9e17f8",
   "metadata": {
    "ExecuteTime": {
     "end_time": "2024-06-17T20:22:47.560328Z",
     "start_time": "2024-06-17T20:22:47.551173Z"
    }
   },
   "outputs": [],
   "source": [
    "def plot_similarity_heatmap(similarity_matrix):\n",
    "    plt.figure(figsize=(10, 8))\n",
    "    sns.heatmap(similarity_matrix, cmap='gray_r')\n",
    "    plt.title(\"Heatmap of Pairwise Cosine Similarity\")\n",
    "    plt.xlabel(\"Embedding Index\")\n",
    "    plt.ylabel(\"Embedding Index\")\n",
    "    plt.show()"
   ]
  },
  {
   "cell_type": "markdown",
   "id": "949778e42379f8e8",
   "metadata": {},
   "source": [
    "The provided similarity matrix is plotted using a color map ('gray') to represent the cosine similarity. The resulting heatmap provides a visual representation of similarity relationships between embeddings, with warmer colors indicating higher similarity and cooler colors indicating lower similarity. This visualization aids in understanding the clustering and relationships within the embeddings, facilitating further analysis and interpretation."
   ]
  },
  {
   "cell_type": "markdown",
   "id": "b5ecbb83dddbdf6a",
   "metadata": {},
   "source": [
    "#### Example 1: Segment 1 from Amazon data"
   ]
  },
  {
   "cell_type": "code",
   "execution_count": null,
   "id": "729c72000aa07bd0",
   "metadata": {
    "ExecuteTime": {
     "end_time": "2024-06-17T20:23:05.174822Z",
     "start_time": "2024-06-17T20:22:59.759880Z"
    }
   },
   "outputs": [],
   "source": [
    "data_1 = normalize_data(segment_1,'Close')\n",
    "ts_embedding_1 = create_and_train_ts_embedding (data_1)"
   ]
  },
  {
   "cell_type": "code",
   "execution_count": null,
   "id": "583f1c96735747ef",
   "metadata": {
    "ExecuteTime": {
     "end_time": "2024-06-17T20:23:05.649214Z",
     "start_time": "2024-06-17T20:23:05.176843Z"
    }
   },
   "outputs": [],
   "source": [
    "embeddings_1 = print_ts_embeddings_info (ts_embedding_1)"
   ]
  },
  {
   "cell_type": "code",
   "execution_count": null,
   "id": "51f5ae941c925046",
   "metadata": {
    "ExecuteTime": {
     "end_time": "2024-06-17T20:23:06.853926Z",
     "start_time": "2024-06-17T20:23:05.651224Z"
    }
   },
   "outputs": [],
   "source": [
    "similarity_matrix_1, similar_pairs_1 = calculate_embeddings_similarity(ts_embedding_1)\n",
    "plot_similarity_heatmap(similarity_matrix_1)"
   ]
  },
  {
   "cell_type": "code",
   "execution_count": null,
   "id": "2fd4fd9b771933c",
   "metadata": {
    "ExecuteTime": {
     "end_time": "2024-06-17T20:23:06.874230Z",
     "start_time": "2024-06-17T20:23:06.853926Z"
    }
   },
   "outputs": [],
   "source": [
    "sorted_matrix_1, sorted_pairs_1 = sort_similarity_matrix(similarity_matrix_1)"
   ]
  },
  {
   "cell_type": "markdown",
   "id": "e3184c9337a3bf51",
   "metadata": {},
   "source": [
    "<a id = 'example_1_heatmap'></a>"
   ]
  },
  {
   "cell_type": "markdown",
   "id": "a33c04175e5530fb",
   "metadata": {},
   "source": [
    "#### Example 2: Segment 2 from Amazon data"
   ]
  },
  {
   "cell_type": "code",
   "execution_count": null,
   "id": "fc81de46a4b2904c",
   "metadata": {},
   "outputs": [],
   "source": [
    "data_2 = normalize_data(segment_2,'Close')\n",
    "ts_embedding_2 = create_and_train_ts_embedding (data_2)"
   ]
  },
  {
   "cell_type": "code",
   "execution_count": null,
   "id": "3e3c657f835a9552",
   "metadata": {
    "ExecuteTime": {
     "end_time": "2024-06-17T20:23:25.790448Z",
     "start_time": "2024-06-17T20:23:25.345914Z"
    }
   },
   "outputs": [],
   "source": [
    "embeddings_2 = print_ts_embeddings_info (ts_embedding_2)"
   ]
  },
  {
   "cell_type": "code",
   "execution_count": null,
   "id": "bd20e83a2f75d693",
   "metadata": {
    "ExecuteTime": {
     "end_time": "2024-06-17T20:23:27.826401Z",
     "start_time": "2024-06-17T20:23:26.545312Z"
    }
   },
   "outputs": [],
   "source": [
    "similarity_matrix_2, similar_pairs_2 = calculate_embeddings_similarity(ts_embedding_2)\n",
    "plot_similarity_heatmap(similarity_matrix_2)"
   ]
  },
  {
   "cell_type": "code",
   "execution_count": null,
   "id": "893b9daa8e970c3c",
   "metadata": {
    "ExecuteTime": {
     "end_time": "2024-06-17T20:23:49.028021Z",
     "start_time": "2024-06-17T20:23:49.008672Z"
    }
   },
   "outputs": [],
   "source": [
    "sorted_matrix_2, sorted_pairs_2 = sort_similarity_matrix(similarity_matrix_2)"
   ]
  },
  {
   "cell_type": "markdown",
   "id": "fb5b2c9de5b46b15",
   "metadata": {},
   "source": [
    "#### Example 3: Segment 3 from Amazon data"
   ]
  },
  {
   "cell_type": "code",
   "execution_count": null,
   "id": "210578807a948f8d",
   "metadata": {},
   "outputs": [],
   "source": [
    "data_3 = normalize_data(segment_3,'Close')\n",
    "ts_embedding_3 = create_and_train_ts_embedding (data_3)"
   ]
  },
  {
   "cell_type": "code",
   "execution_count": null,
   "id": "78eeda5a50bf9e87",
   "metadata": {
    "ExecuteTime": {
     "end_time": "2024-06-17T20:23:59.667482Z",
     "start_time": "2024-06-17T20:23:59.246482Z"
    }
   },
   "outputs": [],
   "source": [
    "embeddings_3 = print_ts_embeddings_info (ts_embedding_3)"
   ]
  },
  {
   "cell_type": "code",
   "execution_count": null,
   "id": "6dc2a76ef6ca8af8",
   "metadata": {
    "ExecuteTime": {
     "end_time": "2024-06-17T20:24:00.990128Z",
     "start_time": "2024-06-17T20:23:59.667482Z"
    }
   },
   "outputs": [],
   "source": [
    "similarity_matrix_3, similar_pairs_3 = calculate_embeddings_similarity(ts_embedding_3)\n",
    "plot_similarity_heatmap(similarity_matrix_3)"
   ]
  },
  {
   "cell_type": "code",
   "execution_count": null,
   "id": "c93e4d586ed4db1a",
   "metadata": {
    "ExecuteTime": {
     "end_time": "2024-06-17T20:24:28.800131Z",
     "start_time": "2024-06-17T20:24:28.779945Z"
    }
   },
   "outputs": [],
   "source": [
    "sorted_matrix_3, sorted_pairs_3 = sort_similarity_matrix(similarity_matrix_3)"
   ]
  },
  {
   "cell_type": "markdown",
   "id": "5399f931570217ae",
   "metadata": {},
   "source": [
    "#### Example 4: Segment 4 from Amazon data"
   ]
  },
  {
   "cell_type": "code",
   "execution_count": null,
   "id": "e29e3e7a630e0447",
   "metadata": {},
   "outputs": [],
   "source": [
    "data_4 = normalize_data(segment_4,'Close')\n",
    "ts_embedding_4 = create_and_train_ts_embedding (data_4)"
   ]
  },
  {
   "cell_type": "code",
   "execution_count": null,
   "id": "12de7b56a2521453",
   "metadata": {
    "ExecuteTime": {
     "end_time": "2024-06-17T20:24:59.058711Z",
     "start_time": "2024-06-17T20:24:58.664605Z"
    }
   },
   "outputs": [],
   "source": [
    "embeddings_4 = print_ts_embeddings_info (ts_embedding_4)"
   ]
  },
  {
   "cell_type": "code",
   "execution_count": null,
   "id": "56ef547c8ee1e33d",
   "metadata": {
    "ExecuteTime": {
     "end_time": "2024-06-17T20:25:01.619368Z",
     "start_time": "2024-06-17T20:25:00.580895Z"
    }
   },
   "outputs": [],
   "source": [
    "similarity_matrix_4, similar_pairs_4 = calculate_embeddings_similarity(ts_embedding_4)\n",
    "plot_similarity_heatmap(similarity_matrix_4)"
   ]
  },
  {
   "cell_type": "code",
   "execution_count": null,
   "id": "7d8211c82a3dca7c",
   "metadata": {
    "ExecuteTime": {
     "end_time": "2024-06-17T20:25:26.884768Z",
     "start_time": "2024-06-17T20:25:26.863833Z"
    }
   },
   "outputs": [],
   "source": [
    "sorted_matrix_4, sorted_pairs_4 = sort_similarity_matrix(similarity_matrix_4)"
   ]
  },
  {
   "cell_type": "markdown",
   "id": "fb77f0fa64080281",
   "metadata": {},
   "source": [
    "#### Example 5: Segment 5 from Amazon data"
   ]
  },
  {
   "cell_type": "code",
   "execution_count": null,
   "id": "f1b1e1869c9316f",
   "metadata": {},
   "outputs": [],
   "source": [
    "data_5 = normalize_data(segment_5,'Close')\n",
    "ts_embedding_5 = create_and_train_ts_embedding (data_5)"
   ]
  },
  {
   "cell_type": "code",
   "execution_count": null,
   "id": "b09ce7028c993050",
   "metadata": {
    "ExecuteTime": {
     "end_time": "2024-06-17T20:25:41.025215Z",
     "start_time": "2024-06-17T20:25:40.575538Z"
    }
   },
   "outputs": [],
   "source": [
    "embeddings_5 = print_ts_embeddings_info (ts_embedding_5)"
   ]
  },
  {
   "cell_type": "code",
   "execution_count": null,
   "id": "a88f99114977f6ac",
   "metadata": {
    "ExecuteTime": {
     "end_time": "2024-06-17T20:25:42.183409Z",
     "start_time": "2024-06-17T20:25:41.026221Z"
    }
   },
   "outputs": [],
   "source": [
    "similarity_matrix_5, similar_pairs_5 = calculate_embeddings_similarity(ts_embedding_5)\n",
    "plot_similarity_heatmap(similarity_matrix_5)"
   ]
  },
  {
   "cell_type": "code",
   "execution_count": null,
   "id": "b7e93bc1e80ebf93",
   "metadata": {
    "ExecuteTime": {
     "end_time": "2024-06-17T20:26:01.947248Z",
     "start_time": "2024-06-17T20:26:01.926384Z"
    }
   },
   "outputs": [],
   "source": [
    "sorted_matrix_5, sorted_pairs_5 = sort_similarity_matrix(similarity_matrix_5)"
   ]
  },
  {
   "cell_type": "markdown",
   "id": "f950632df8d60b82",
   "metadata": {},
   "source": [
    "#### Example 6: Segment 6 from Amazon data"
   ]
  },
  {
   "cell_type": "code",
   "execution_count": null,
   "id": "39d07ad9f9986aa2",
   "metadata": {},
   "outputs": [],
   "source": [
    "data_6 = normalize_data(segment_6,'Close')\n",
    "ts_embedding_6 = create_and_train_ts_embedding (data_6)"
   ]
  },
  {
   "cell_type": "code",
   "execution_count": null,
   "id": "3d75275e70ac6e25",
   "metadata": {
    "ExecuteTime": {
     "end_time": "2024-06-17T20:26:11.399435Z",
     "start_time": "2024-06-17T20:26:10.993575Z"
    }
   },
   "outputs": [],
   "source": [
    "embeddings_6 = print_ts_embeddings_info (ts_embedding_6)\n",
    "print(embeddings_6.size)"
   ]
  },
  {
   "cell_type": "code",
   "execution_count": null,
   "id": "17b10e9c3a258299",
   "metadata": {
    "ExecuteTime": {
     "end_time": "2024-06-17T20:26:12.313031Z",
     "start_time": "2024-06-17T20:26:11.400844Z"
    }
   },
   "outputs": [],
   "source": [
    "similarity_matrix_6, similar_pairs_6 = calculate_embeddings_similarity(ts_embedding_6)\n",
    "plot_similarity_heatmap(similarity_matrix_6)"
   ]
  },
  {
   "cell_type": "code",
   "execution_count": null,
   "id": "356be06460245d4d",
   "metadata": {
    "ExecuteTime": {
     "end_time": "2024-06-17T20:26:35.258660Z",
     "start_time": "2024-06-17T20:26:35.230158Z"
    }
   },
   "outputs": [],
   "source": [
    "sorted_matrix_6, sorted_pairs_6 = sort_similarity_matrix(similarity_matrix_6)"
   ]
  },
  {
   "cell_type": "markdown",
   "id": "1e80bfe6e4beb4c3",
   "metadata": {},
   "source": [
    "Based on above presented heatmaps we can conclude that all of them have a white diagonal that represents zeros for the same valued pairs. Out of the six examples [Example 1: Segment 1 from Amazon data](#example-1-segment-1-from-amazon-data) and [Example 3: Segment 3 from Amazon data](#example-3-segment-3-from-amazon-data) are the most similar by their embeddings. If we compare their time series graphs we can also see that the graphs are quite similar, both of them contain increasing values. "
   ]
  },
  {
   "cell_type": "markdown",
   "id": "f0b4fac9288814a4",
   "metadata": {},
   "source": []
  }
 ],
 "metadata": {
  "kernelspec": {
   "display_name": "Python 3 (ipykernel)",
   "language": "python",
   "name": "python3"
  },
  "language_info": {
   "codemirror_mode": {
    "name": "ipython",
    "version": 3
   },
   "file_extension": ".py",
   "mimetype": "text/x-python",
   "name": "python",
   "nbconvert_exporter": "python",
   "pygments_lexer": "ipython3",
   "version": "3.9.6"
  }
 },
 "nbformat": 4,
 "nbformat_minor": 5
}
